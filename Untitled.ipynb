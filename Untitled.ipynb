{
 "cells": [
  {
   "cell_type": "markdown",
   "metadata": {},
   "source": [
    "# VitBer Prosjekt 3\n",
    "\n",
    "##  Simulating the action potential with random walk of ions\n",
    "Gruppe 49 - Martin Johnsrud, Hans Giil og Eirik Høydalsvik"
   ]
  },
  {
   "cell_type": "markdown",
   "metadata": {},
   "source": [
    "### Theory"
   ]
  },
  {
   "cell_type": "markdown",
   "metadata": {},
   "source": [
    "### Exercise 2\n",
    "**2.1**\n",
    "\n",
    "\n",
    "Given the function\n",
    "\n",
    "$$\n",
    "    \\tilde \\phi(x, t) = \\frac{1}{\\sqrt{4 pi D t}} exp \\Big(-\\frac{(x - \\mu)^2}{4Dt} \\Big),\n",
    "$$\n",
    "\n",
    "its partial derivatives are\n",
    "\n",
    "$$\n",
    "    \\frac{\\partial \\tilde \\phi}{\\partial t} = -\\tilde \\phi \\Bigg( \\frac{1}{2 t} + \\frac{(x - \\mu)^2}{4 D t^2} \\Bigg),\\quad\n",
    "    \\frac{\\partial \\tilde \\phi}{\\partial x} = \\tilde \\phi \\frac{-(x - \\mu)}{2 D t},\\quad\n",
    "    \\frac{\\partial^2 \\tilde \\phi}{\\partial^2 x} = -\\tilde \\phi\\Bigg( \\frac{1}{2 D t} + \\frac{(x - \\mu)^2}{4D^2 t^2}\\Bigg) = \\frac{1}{D} \\frac{\\partial \\tilde \\phi}{\\partial t},\n",
    "$$\n",
    "\n",
    "and the function satisfies the diffusion equation\n",
    "\n",
    "$$\n",
    "    \\frac{\\partial \\tilde \\phi(x, t)}{\\partial t} = D \\frac{\\partial^2 \\tilde \\phi (x, t)}{\\partial x^2}\n",
    "$$"
   ]
  },
  {
   "cell_type": "markdown",
   "metadata": {},
   "source": [
    "### Exercise 2"
   ]
  },
  {
   "cell_type": "markdown",
   "metadata": {},
   "source": [
    "### Exercise 3 - Random walk in 1D"
   ]
  },
  {
   "cell_type": "code",
   "execution_count": null,
   "metadata": {},
   "outputs": [],
   "source": [
    "import random\n",
    "import numpy as np\n",
    "from matplotlib import pyplot as plt\n",
    "from scipy.stats import norm\n",
    "from sklearn import preprocessing\n",
    "import seaborn as sns"
   ]
  },
  {
   "cell_type": "code",
   "execution_count": null,
   "metadata": {},
   "outputs": [],
   "source": [
    "h = 1\n",
    "N = 100 # partikkeltall\n",
    "k = 1    #4*D*t\n",
    "points = np.zeros(N)\n",
    "xAx = np.linspace(-50,50, N)\n",
    "tnum = 100\n",
    "for i in range(N):\n",
    "    pos = 0\n",
    "    for t in range(tnum ):\n",
    "        ran = random.random()\n",
    "        if ran > 0.5:\n",
    "            pos += h\n",
    "        else:\n",
    "            pos -= h\n",
    "    points[ ] += 1\n",
    "\n",
    "#plt.plot(xAx, points)\n",
    "mu, std = norm.fit(points)\n",
    "print(mu)\n",
    "print(std)\n",
    "\n",
    "sumPoints = np.sum(points)\n",
    "normCurve = N*  1 / np.sqrt((2* np.pi * std**2 )) * np.exp( -(xAx - mu)**2 /( 2 * std**2))\n",
    "                                        \n",
    "#plt.plot(xAx, normCurve, color = \"red\")\n",
    "#plt.show()\n",
    "print(points)\n",
    "p = norm.pdf(xAx, mu, std)\n",
    "plt.plot(xAx, p)"
   ]
  },
  {
   "cell_type": "markdown",
   "metadata": {},
   "source": [
    "### Random walk in a potential"
   ]
  },
  {
   "cell_type": "markdown",
   "metadata": {},
   "source": [
    "**Exercise 5.1**\n"
   ]
  },
  {
   "cell_type": "code",
   "execution_count": 1,
   "metadata": {},
   "outputs": [
    {
     "ename": "NameError",
     "evalue": "name 'np' is not defined",
     "output_type": "error",
     "traceback": [
      "\u001b[1;31m---------------------------------------------------------------------------\u001b[0m",
      "\u001b[1;31mNameError\u001b[0m                                 Traceback (most recent call last)",
      "\u001b[1;32m<ipython-input-1-84612e41c699>\u001b[0m in \u001b[0;36m<module>\u001b[1;34m\u001b[0m\n\u001b[0;32m     28\u001b[0m         \u001b[0mplt\u001b[0m\u001b[1;33m.\u001b[0m\u001b[0mplot\u001b[0m\u001b[1;33m(\u001b[0m\u001b[0mxAx\u001b[0m\u001b[1;33m,\u001b[0m \u001b[0mpoints\u001b[0m\u001b[1;33m)\u001b[0m\u001b[1;33m\u001b[0m\u001b[1;33m\u001b[0m\u001b[0m\n\u001b[0;32m     29\u001b[0m         \u001b[0mplt\u001b[0m\u001b[1;33m.\u001b[0m\u001b[0mshow\u001b[0m\u001b[1;33m(\u001b[0m\u001b[1;33m)\u001b[0m\u001b[1;33m\u001b[0m\u001b[1;33m\u001b[0m\u001b[0m\n\u001b[1;32m---> 30\u001b[1;33m \u001b[1;32mfor\u001b[0m \u001b[0mbetaK\u001b[0m \u001b[1;32min\u001b[0m \u001b[0mnp\u001b[0m\u001b[1;33m.\u001b[0m\u001b[0mlinspace\u001b[0m\u001b[1;33m(\u001b[0m\u001b[1;36m0.1\u001b[0m\u001b[1;33m,\u001b[0m\u001b[1;36m10\u001b[0m\u001b[1;33m,\u001b[0m\u001b[1;36m5\u001b[0m\u001b[1;33m)\u001b[0m\u001b[1;33m:\u001b[0m\u001b[1;33m\u001b[0m\u001b[1;33m\u001b[0m\u001b[0m\n\u001b[0m\u001b[0;32m     31\u001b[0m     \u001b[0mprint\u001b[0m\u001b[1;33m(\u001b[0m\u001b[1;34m\"beta * K: \"\u001b[0m\u001b[1;33m,\u001b[0m\u001b[0mbetaK\u001b[0m\u001b[1;33m)\u001b[0m\u001b[1;33m\u001b[0m\u001b[1;33m\u001b[0m\u001b[0m\n\u001b[0;32m     32\u001b[0m     \u001b[0mrandomWalk\u001b[0m\u001b[1;33m(\u001b[0m\u001b[0mV1\u001b[0m\u001b[1;33m,\u001b[0m\u001b[1;36m99\u001b[0m\u001b[1;33m,\u001b[0m\u001b[1;36m100\u001b[0m\u001b[1;33m,\u001b[0m\u001b[1;36m150\u001b[0m\u001b[1;33m,\u001b[0m\u001b[1;36m1\u001b[0m\u001b[1;33m,\u001b[0m\u001b[0mbetaK\u001b[0m\u001b[1;33m)\u001b[0m\u001b[1;33m\u001b[0m\u001b[1;33m\u001b[0m\u001b[0m\n",
      "\u001b[1;31mNameError\u001b[0m: name 'np' is not defined"
     ]
    }
   ],
   "source": [
    "def V0(x,h):\n",
    "    return 0\n",
    "\n",
    "def V1(x,h):\n",
    "    return x\n",
    "\n",
    "def V2(x,h):\n",
    "    if(x < 3*h and x > -3*h):\n",
    "        return 1;\n",
    "    else:\n",
    "        return 0;\n",
    "\n",
    "def randomWalk(V,N,t,L,h,betaK = 0.002):\n",
    "        points = np.zeros(N)\n",
    "        xAx = np.linspace(-L,L, N)\n",
    "        for i in range(N):\n",
    "            pos = 0\n",
    "            for j in range(t):\n",
    "                ran = random.random()\n",
    "                P_pluss = 1/(1 + np.exp(-betaK*(V(pos-h,h) - V(pos+h,h))))\n",
    "                #print(P_pluss)\n",
    "                #print(pos)\n",
    "                if ran < P_pluss:\n",
    "                    pos += 1\n",
    "                else:\n",
    "                    pos -= 1\n",
    "            points[ int(N//2) + (pos * N)//(2*L)] += 1\n",
    "        plt.plot(xAx, points)\n",
    "        plt.show()\n",
    "for betaK in np.linspace(0.1,10,5):\n",
    "    print(\"beta * K: \",betaK)\n",
    "    randomWalk(V1,99,100,150,1,betaK)"
   ]
  },
  {
   "cell_type": "markdown",
   "metadata": {},
   "source": [
    "**Exercise 5.2**"
   ]
  },
  {
   "cell_type": "markdown",
   "metadata": {},
   "source": [
    "**Exercise 5.3**"
   ]
  },
  {
   "cell_type": "markdown",
   "metadata": {},
   "source": [
    "### Transporting ions through cell membranes"
   ]
  },
  {
   "cell_type": "markdown",
   "metadata": {},
   "source": [
    "**Exercise 7.1**"
   ]
  },
  {
   "cell_type": "markdown",
   "metadata": {},
   "source": [
    "**Exercise 7.2**"
   ]
  },
  {
   "cell_type": "markdown",
   "metadata": {},
   "source": [
    "**Exercise 7.3**"
   ]
  },
  {
   "cell_type": "markdown",
   "metadata": {},
   "source": [
    "### Simulating the action potential"
   ]
  },
  {
   "cell_type": "markdown",
   "metadata": {},
   "source": [
    "**Exercise 8.1**"
   ]
  },
  {
   "cell_type": "markdown",
   "metadata": {},
   "source": [
    "**Exercise 8.1**"
   ]
  }
 ],
 "metadata": {
  "kernelspec": {
   "display_name": "Python 3",
   "language": "python",
   "name": "python3"
  },
  "language_info": {
   "codemirror_mode": {
    "name": "ipython",
    "version": 3
   },
   "file_extension": ".py",
   "mimetype": "text/x-python",
   "name": "python",
   "nbconvert_exporter": "python",
   "pygments_lexer": "ipython3",
   "version": "3.7.1"
  }
 },
 "nbformat": 4,
 "nbformat_minor": 2
}
