{
 "cells": [
  {
   "cell_type": "markdown",
   "metadata": {},
   "source": [
    "# VitBer Prosjekt 3\n",
    "\n",
    "##  Simulating the action potential with random walk of ions\n",
    "Gruppe 49 - Martin Johnsrud, Hans Giil og Eirik Høydalsvik"
   ]
  },
  {
   "cell_type": "markdown",
   "metadata": {},
   "source": [
    "### Theory"
   ]
  },
  {
   "cell_type": "markdown",
   "metadata": {},
   "source": [
    "### Exercise 1"
   ]
  },
  {
   "cell_type": "markdown",
   "metadata": {},
   "source": [
    "### Exercise 2\n",
    "\n",
    "test 2"
   ]
  },
  {
   "cell_type": "markdown",
   "metadata": {},
   "source": [
    "### Exercise 3 - Random walk in 1D"
   ]
  },
  {
   "cell_type": "code",
   "execution_count": null,
   "metadata": {},
   "outputs": [],
   "source": [
    "import random\n",
    "import numpy as np\n",
    "from matplotlib import pyplot as plt"
   ]
  },
  {
   "cell_type": "code",
   "execution_count": null,
   "metadata": {},
   "outputs": [],
   "source": [
    "h = 1\n",
    "N = 1000 # partikkeltall\n",
    "\n",
    "points = np.zeros(N)\n",
    "xAx = np.linspace(-50,50, N)\n",
    "tnum = 100\n",
    "for i in range(N):\n",
    "    pos = 0\n",
    "    for t in range(tnum ):\n",
    "        ran = random.random()\n",
    "        if ran > 0.5:\n",
    "            pos += h\n",
    "        else:\n",
    "            pos -= h\n",
    "    points[ int(N/2) + pos * N // tnum] += 1\n",
    "\n",
    "plt.plot(xAx, points)\n",
    "plt.show()\n"
   ]
  },
  {
   "cell_type": "markdown",
   "metadata": {},
   "source": [
    "### Random walk in a potential"
   ]
  },
  {
   "cell_type": "markdown",
   "metadata": {},
   "source": [
    "**Exercise 5.1**\n"
   ]
  },
  {
   "cell_type": "code",
   "execution_count": null,
   "metadata": {},
   "outputs": [],
   "source": [
    "def V0(x):\n",
    "    return 0\n",
    "\n",
    "def V1(x):\n",
    "    return x\n",
    "\n",
    "def randomWalk(V,N,t,h,beta = 1):\n",
    "        points = np.zeros(N)\n",
    "        xAx = np.linspace(-50,50, N)\n",
    "        for i in range(N):\n",
    "            pos = 0\n",
    "            for j in range(t):\n",
    "                ran = random.random()\n",
    "                P_pluss = 1/(1 + np.exp(-beta*(V(pos-h)-V(pos+h))))\n",
    "                if ran < P_pluss:\n",
    "                    pos += 1\n",
    "                else:\n",
    "                    pos -= 1\n",
    "            points[ int(N/2) + pos * N // t] += 1\n",
    "        plt.plot(xAx, points)\n",
    "        plt.show()\n",
    "randomWalk(V1,1000,100,1)"
   ]
  },
  {
   "cell_type": "code",
   "execution_count": null,
   "metadata": {},
   "outputs": [],
   "source": []
  },
  {
   "cell_type": "markdown",
   "metadata": {},
   "source": [
    "**Exercise 5.2**"
   ]
  },
  {
   "cell_type": "markdown",
   "metadata": {},
   "source": [
    "**Exercise 5.3**"
   ]
  },
  {
   "cell_type": "markdown",
   "metadata": {},
   "source": [
    "### Transporting ions through cell membranes"
   ]
  },
  {
   "cell_type": "markdown",
   "metadata": {},
   "source": [
    "**Exercise 7.1**"
   ]
  },
  {
   "cell_type": "markdown",
   "metadata": {},
   "source": [
    "**Exercise 7.2**"
   ]
  },
  {
   "cell_type": "markdown",
   "metadata": {},
   "source": [
    "**Exercise 7.3**"
   ]
  },
  {
   "cell_type": "markdown",
   "metadata": {},
   "source": [
    "### Simulating the action potential"
   ]
  },
  {
   "cell_type": "markdown",
   "metadata": {},
   "source": [
    "**Exercise 8.1**"
   ]
  },
  {
   "cell_type": "markdown",
   "metadata": {},
   "source": [
    "**Exercise 8.1**"
   ]
  }
 ],
 "metadata": {
  "kernelspec": {
   "display_name": "Python 3",
   "language": "python",
   "name": "python3"
  },
  "language_info": {
   "codemirror_mode": {
    "name": "ipython",
    "version": 3
   },
   "file_extension": ".py",
   "mimetype": "text/x-python",
   "name": "python",
   "nbconvert_exporter": "python",
   "pygments_lexer": "ipython3",
   "version": "3.7.1"
  }
 },
 "nbformat": 4,
 "nbformat_minor": 2
}
