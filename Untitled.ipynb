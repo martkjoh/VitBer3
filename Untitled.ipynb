{
 "cells": [
  {
   "cell_type": "markdown",
   "metadata": {},
   "source": [
    "# VitBer Prosjekt 3\n",
    "\n",
    "##  Simulating the action potential with random walk of ions\n",
    "Gruppe 49 - Martin Johnsrud, Hans Giil og Eirik Høydalsvik"
   ]
  },
  {
   "cell_type": "markdown",
   "metadata": {},
   "source": [
    "### Theory"
   ]
  },
  {
   "cell_type": "markdown",
   "metadata": {},
   "source": [
    "### Exercise 2\n",
    "**2.1**\n",
    "\n",
    "\n",
    "Given the function\n",
    "\n",
    "$$\n",
    "    \\tilde \\phi(x, t) = \\frac{1}{\\sqrt{4 pi D t}} exp \\Big(-\\frac{(x - \\mu)^2}{4Dt} \\Big),\n",
    "$$\n",
    "\n",
    "its partial derivatives are\n",
    "\n",
    "$$\n",
    "    \\frac{\\partial \\tilde \\phi}{\\partial t} = -\\tilde \\phi \\Bigg( \\frac{1}{2 t} + \\frac{(x - \\mu)^2}{4 D t^2} \\Bigg),\\quad\n",
    "    \\frac{\\partial \\tilde \\phi}{\\partial x} = \\tilde \\phi \\frac{-(x - \\mu)}{2 D t},\\quad\n",
    "    \\frac{\\partial^2 \\tilde \\phi}{\\partial^2 x} = -\\tilde \\phi\\Bigg( \\frac{1}{2 D t} + \\frac{(x - \\mu)^2}{4D^2 t^2}\\Bigg) = \\frac{1}{D} \\frac{\\partial \\tilde \\phi}{\\partial t},\n",
    "$$\n",
    "\n",
    "and the function satisfies the diffusion equation\n",
    "\n",
    "$$\n",
    "    \\frac{\\partial \\tilde \\phi(x, t)}{\\partial t} = D \\frac{\\partial^2 \\tilde \\phi (x, t)}{\\partial x^2}\n",
    "$$"
   ]
  },
  {
   "cell_type": "markdown",
   "metadata": {},
   "source": [
    "### Exercise 2"
   ]
  },
  {
   "cell_type": "markdown",
   "metadata": {},
   "source": [
    "### Random walk in 1D"
   ]
  },
  {
   "cell_type": "markdown",
   "metadata": {},
   "source": [
    "### Random walk in a potential"
   ]
  },
  {
   "cell_type": "markdown",
   "metadata": {},
   "source": [
    "**Exercise 5.1**"
   ]
  },
  {
   "cell_type": "markdown",
   "metadata": {},
   "source": [
    "**Exercise 5.2**"
   ]
  },
  {
   "cell_type": "markdown",
   "metadata": {},
   "source": [
    "**Exercise 5.3**"
   ]
  },
  {
   "cell_type": "markdown",
   "metadata": {},
   "source": [
    "### Transporting ions through cell membranes"
   ]
  },
  {
   "cell_type": "markdown",
   "metadata": {},
   "source": [
    "**Exercise 7.1**"
   ]
  },
  {
   "cell_type": "markdown",
   "metadata": {},
   "source": [
    "**Exercise 7.2**"
   ]
  },
  {
   "cell_type": "markdown",
   "metadata": {},
   "source": [
    "**Exercise 7.3**"
   ]
  },
  {
   "cell_type": "markdown",
   "metadata": {},
   "source": [
    "### Simulating the action potential"
   ]
  },
  {
   "cell_type": "markdown",
   "metadata": {},
   "source": [
    "**Exercise 8.1**"
   ]
  },
  {
   "cell_type": "markdown",
   "metadata": {},
   "source": [
    "**Exercise 8.1**"
   ]
  }
 ],
 "metadata": {
  "kernelspec": {
   "display_name": "Python 3",
   "language": "python",
   "name": "python3"
  },
  "language_info": {
   "codemirror_mode": {
    "name": "ipython",
    "version": 3
   },
   "file_extension": ".py",
   "mimetype": "text/x-python",
   "name": "python",
   "nbconvert_exporter": "python",
   "pygments_lexer": "ipython3",
   "version": "3.7.2"
  }
 },
 "nbformat": 4,
 "nbformat_minor": 2
}
