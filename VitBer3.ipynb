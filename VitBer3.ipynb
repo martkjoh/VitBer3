{
 "cells": [
  {
   "cell_type": "markdown",
   "metadata": {},
   "source": [
    "# VitBer Prosjekt 3\n",
    "\n",
    "##  Simulating the action potential with random walk of ions\n",
    "Gruppe 49 - Martin Johnsrud, Hans Giil og Eirik Høydalsvik"
   ]
  },
  {
   "cell_type": "markdown",
   "metadata": {},
   "source": [
    "### Theory"
   ]
  },
  {
   "cell_type": "markdown",
   "metadata": {},
   "source": [
    "### Exercise 2\n",
    "**2.1**\n",
    "\n",
    "\n",
    "Given the function\n",
    "\n",
    "$$\n",
    "    \\tilde \\phi(x, t) = \\frac{1}{\\sqrt{4 \\pi D t}} exp \\Big(-\\frac{(x - \\mu)^2}{4Dt} \\Big),\n",
    "$$\n",
    "\n",
    "its partial derivatives are\n",
    "\n",
    "$$\n",
    "    \\frac{\\partial \\tilde \\phi}{\\partial t} = -\\tilde \\phi \\Bigg( \\frac{1}{2 t} + \\frac{(x - \\mu)^2}{4 D t^2} \\Bigg),\\quad\n",
    "    \\frac{\\partial \\tilde \\phi}{\\partial x} = \\tilde \\phi \\frac{-(x - \\mu)}{2 D t},\\quad\n",
    "    \\frac{\\partial^2 \\tilde \\phi}{\\partial^2 x} = -\\tilde \\phi\\Bigg( \\frac{1}{2 D t} + \\frac{(x - \\mu)^2}{4D^2 t^2}\\Bigg) = \\frac{1}{D} \\frac{\\partial \\tilde \\phi}{\\partial t},\n",
    "$$\n",
    "\n",
    "and the function satisfies the diffusion equation\n",
    "\n",
    "$$\n",
    "    \\frac{\\partial \\tilde \\phi(x, t)}{\\partial t} = D \\frac{\\partial^2 \\tilde \\phi (x, t)}{\\partial x^2}\n",
    "$$"
   ]
  },
  {
   "cell_type": "markdown",
   "metadata": {},
   "source": [
    "**2.2.1**\n",
    "\n",
    "Let\n",
    "\n",
    "$$\n",
    "    \\phi(x, 0) = \\delta(x - x_0) = \\frac{1}{2 \\pi} \\int^\\infty_{-\\infty} \\exp\\big(-i k(x - x_0)\\big) \\mathrm{d}k\n",
    "$$\n",
    "be a particle distribuition i 1D at time $t = 0$, and assume it follows the diffusion equation. Differentiating this with respect to x yields\n",
    "\n",
    "$$\n",
    "   \\frac{\\partial \\phi}{\\partial x} = \\frac{\\partial}{\\partial x} \\frac{1}{2 \\pi} \\int^\\infty_{-\\infty} \\exp\\big(-i k(x - x_0)\\big)\\mathrm{d}k \n",
    "   = \\frac{-i}{2 \\pi} \\int^\\infty_{-\\infty} k \\exp\\big(-i k(x - x_0)\\big) \\mathrm{d}k, \\\\\n",
    "   \\frac{\\partial^2 \\phi}{\\partial x^2} = \\frac{1}{2 \\pi} \\int^\\infty_{-\\infty} k^2 \\exp\\big(-i k(x - x_0)\\big) \\mathrm{d}k.\n",
    "$$\n",
    "\n",
    "The time derivative at time $t = 0$ is then given by\n",
    "\n",
    "$$\n",
    "    \\frac{\\partial \\phi}{\\partial t} \\Big\\rvert_{t = 0} = \\frac{1}{2 \\pi} \\int^\\infty_{-\\infty} -D k^2 \\exp\\big(-i k(x - x_0)\\big) \\mathrm{d}k \n",
    "$$"
   ]
  },
  {
   "cell_type": "markdown",
   "metadata": {},
   "source": [
    "The Taylor expansion of $\\phi(x, t)$ at $t = 0$ is then given by\n",
    "\n",
    "$$\n",
    "    \\phi(x, t) = \\phi(x, 0) + \\sum^{\\infty}_{n = 1} \\frac{t^n}{n !} \\frac{\\partial^n \\phi (x, \\tau)}{\\partial \\tau^n}\\Bigg\\rvert_{\\tau = 0}\n",
    "$$\n",
    "\n",
    "substituting this into the diffusion equation yields\n",
    "\n",
    "$$\n",
    "    D \\frac{\\partial^2 \\phi}{\\partial x^2} = D \\sum^{\\infty}_{n = 0} \\frac{t^n}{n !} \\frac{\\partial^n}{\\partial \\tau^n}\\Bigg( \\frac{\\partial^2 \\phi (x, \\tau)}{\\partial x^2} \\Bigg)\\Bigg\\rvert_{\\tau = 0} = \\\\\n",
    "    \\frac{\\partial \\phi}{\\partial t} =  \\sum^{\\infty}_{n = 1} \\frac{nt^{n - 1}}{n !} \\frac{\\partial^n}{\\partial \\tau^n}\\Big( \\phi (x, \\tau) \\Big)\\Bigg\\rvert_{\\tau = 0} =\n",
    "    \\sum^{\\infty}_{n = 0} \\frac{t^{n}}{n !} \\frac{\\partial^{n + 1}}{\\partial \\tau^{n + 1}}\\Big( \\phi (x, \\tau) \\Big)\\Bigg\\rvert_{\\tau = 0}\n",
    "$$\n",
    "\n",
    "The uniqueness of Taylor-sereis then gives that\n",
    "\n",
    "$$\n",
    "    D \\frac{\\partial^n}{\\partial \\tau^n}\\Bigg( \\frac{\\partial^2 \\phi (x, \\tau)}{\\partial x^2} \\Bigg)\\Bigg\\rvert_{\\tau = 0} = \n",
    "    \\frac{\\partial^{n + 1}}{\\partial \\tau^{n + 1}}\\Big( \\phi (x, \\tau) \\Big)\\Bigg\\rvert_{\\tau = 0}, \\quad \\forall n \\in \\mathbb{N}\n",
    "$$\n",
    "\n",
    "Successive differentiation with repsect to $t$ will therefore yield\n",
    "\n",
    "$$\n",
    "    \\frac{\\partial^n\\phi}{\\partial t^n} \\Bigg\\rvert_{t=0}= \\int^\\infty_{-\\infty} (-D k^2)^n\\exp\\big(-ik(x - x_0)\\big)\\mathrm{d}k,\n",
    "$$\n",
    "which means the taylor expansion can be written\n",
    "$$\n",
    "    \\phi(x, t) = \\phi(x, 0) + \\sum^{\\infty}_{n = 1} \\frac{t^n}{n !} \\frac{1}{2 \\pi} \\int^\\infty_{-\\infty} \\exp\\big(-i k(x - x_0)\\big)\\mathrm{d}k = \n",
    "    \\frac{1}{2 \\pi} \\int^\\infty_{-\\infty} \\sum^{\\infty}_{n = 0} \\frac{(-k^2 D t)^n}{n !}\\exp\\big(-ik(x - x_0)\\big)\\mathrm{d}k = \\\\\n",
    "    \\frac{1}{2 \\pi} \\int^\\infty_{-\\infty} \\exp\\big(-k^2 D t\\big)\\exp\\big(-ik(x - x_0)\\big)\\mathrm{d}k.\n",
    "$$\n",
    "\n",
    "This is, down to a multiplicative constant, the inverse fourier transform, $f(x - x_0)$, of $\\hat f(k) = \\exp \\big(-D t k^2 \\big)$. By noticing that $\\hat f'(k) = - 2 D t k \\hat f(k)$, and taking the inverse fourier transform of both sides,\n",
    "\n",
    "$$\n",
    "    \\mathscr{F}^{-1}[\\hat f'(k)](x - x_0) = \\int_{-\\infty}^{\\infty} \\hat f'(k)e^{-ik (x - x_0)} \\mathrm{d}k = \n",
    "    \\big[\\hat f(k) exp(-ik(x - x_0)) \\big]_{k = -\\infty}^{k = \\infty} +\n",
    "    i (x - x_0) \\int_{-\\infty}^{\\infty} \\hat f(k)e^{-i k (x - x_0)} \\mathrm{d} k = i (x - x_0) f(x - x_0) \\\\\n",
    "    \\mathscr{F}^{-1}[-2Dt k f(k)] = -2Dt \\int_{-\\infty}^{\\infty} k f(k)e^{-ik(x - x_0)} \\mathrm{d}k =\n",
    "    -i2Dt\\frac{\\partial}{\\partial x} \\int_{-\\infty}^{\\infty} f(k)e^{-ik(x - x_0)} \\mathrm{d}k = -i2Dt f'(x - x_0),\n",
    "$$\n",
    "\n",
    "one sees that the equation for $f(x - x_0)$, and by extention $\\phi(x, t)$, is given by\n",
    "\n",
    "$$\n",
    "    (x - x_0)f(x - x_0) + 2Dtf'(x - x_0) = 0,\n",
    "$$\n",
    "\n",
    "The genereal solution is\n",
    "\n",
    "$$\n",
    "    xy = C_1 \\frac{\\mathrm{d}y}{\\mathrm{d}x} \\\\\n",
    "    \\int \\frac{x}{C_1} \\mathrm{d} x = \\int \\frac{1}{y} \\mathrm{d} y \\\\\n",
    "    y(x) = C_2 \\exp \\big(\\frac{x^2}{2C_1}\\big),\n",
    "$$\n",
    "\n",
    "which in this case the gives\n",
    "\n",
    "$$\n",
    "    \\phi(x, t) = C_1(t) \\exp\\big(-\\frac{(x - x_0)^2}{4Dt}\\big)\n",
    "$$\n",
    "\n",
    "$C_1$ is found by normalizing, as\n",
    "\n",
    "$$\n",
    "    \\int_{\\mathbb{R}} \\phi(x, 0) \\mathrm{d}x= \\int_{\\mathbb{R}} \\delta(x - x_0) \\mathrm{d}x = 1 = \\int_{\\mathbb{R}} C_1(t) \\exp\\big(-\\frac{(x - x_0)^2}{4Dt}\\big) \\mathrm{d} x = \\frac{C_1(t)}{\\sqrt{4\\pi Dt}},\n",
    "$$\n",
    "\n",
    "the time dependent distribution becomes\n",
    "\n",
    "$$\n",
    "    \\phi(x, t) = \\frac{1}{\\sqrt{4Dt}}\\exp\\Big(-\\frac{(x - x_0)^2}{4\\pi Dt}\\Big)\n",
    "$$"
   ]
  },
  {
   "cell_type": "markdown",
   "metadata": {},
   "source": [
    "**2.2.2**\n",
    "\n",
    "$D$, the diffusion constant, gives the relationship between the curvature and the time-derivative. That is, the large the value of $D$, the faster a peak or valley in the distribution flattens, as those are the places where $\\phi''(x)$ has its maximum absolute values."
   ]
  },
  {
   "cell_type": "markdown",
   "metadata": {},
   "source": [
    "**2.2.3**\n",
    "\n",
    "Assumin an arbitrary, normalized and square integrable starting distribution\n",
    "\n",
    "$$\n",
    "    \\phi(x, 0) = g(x),\n",
    "$$\n",
    "the time evolution can be found by taking the fourier transform of the diffusion equation,\n",
    "\n",
    "$$\n",
    "    \\frac{\\partial}{\\partial t} \\hat \\phi(\\omega, t) = -\\omega^2 D \\hat \\phi(\\omega, t) \\implies \\hat \\phi = C(\\omega) \\exp\\big(-\\omega^2 D t\\big)\n",
    "$$\n",
    "\n",
    "seeing that\n",
    "\n",
    "$$\n",
    "    g(x) = \\mathscr{F}[\\hat \\phi(\\omega, 0)] = \\mathscr{F}[C(\\omega)] \\implies C(\\omega) = \\hat g(\\omega)\n",
    "$$\n",
    "\n",
    "which means the time dependent solution is given by\n",
    "\n",
    "$$\n",
    "    \\phi(x, t) = \\int_\\mathbb{R} \\hat g(w) \\exp \\big(- \\omega^2 D t \\big)e^{-i\\omega x} \\mathrm{d}x\n",
    "$$"
   ]
  },
  {
   "cell_type": "markdown",
   "metadata": {},
   "source": [
    "### Exercise 3 - Random walk in 1D"
   ]
  },
  {
   "cell_type": "code",
   "execution_count": 2,
   "metadata": {},
   "outputs": [],
   "source": [
    "import random\n",
    "import numpy as np\n",
    "from matplotlib import pyplot as plt\n",
    "from scipy.stats import norm"
   ]
  },
  {
   "cell_type": "code",
   "execution_count": 56,
   "metadata": {},
   "outputs": [],
   "source": [
    "#Different potentials. Takes a x-value and the steph length as arguments, and returns the potential in this point. \n",
    "def V0(x,h):\n",
    "    return 0\n",
    "\n",
    "def V1(x,h):\n",
    "    return x\n",
    "\n",
    "def V2(x,h):\n",
    "    if(x < 3*h and x > -3*h):\n",
    "        return 1;\n",
    "    else:\n",
    "        return 0;"
   ]
  },
  {
   "cell_type": "code",
   "execution_count": 57,
   "metadata": {},
   "outputs": [],
   "source": [
    "#This function simulates random walk in 1D, with an arbitary potential V as input parameter. Other parameters : \n",
    "#N: number of particles, t: number of time steps, L: length of x - axis in the plot, h = step length, \n",
    "# betaK : the constant beta * k_b(bolzmanns constant) = 1 / T   (the temperature of the system).\n",
    "def randomWalk(V,N,t,L,h,betaK = 1, plot = True):\n",
    "        points = np.zeros(N)\n",
    "        xAx = np.linspace(-L,L, N)\n",
    "        for i in range(N):\n",
    "            pos = 0\n",
    "            #if(i == N//2):\n",
    "            #    t +=1\n",
    "            for j in range(t):\n",
    "                randNum = random.random()\n",
    "                P_pluss = 1/(1 + np.exp(-betaK*(V(pos-h,h) - V(pos+h,h))))\n",
    "                if randNum < P_pluss:\n",
    "                    pos += 1\n",
    "                else:\n",
    "                    pos -= 1\n",
    "            points[i] += pos\n",
    "        if plot:\n",
    "            plt.hist(points,range = (-L,L),bins = 100)\n",
    "            plt.show()\n",
    "        return xAx, points"
   ]
  },
  {
   "cell_type": "code",
   "execution_count": 54,
   "metadata": {},
   "outputs": [
    {
     "data": {
      "image/png": "[encoded data removed]",
      "text/plain": [
       "<Figure size 432x288 with 1 Axes>"
      ]
     },
     "metadata": {
      "needs_background": "light"
     },
     "output_type": "display_data"
    }
   ],
   "source": [
    "L = 50\n",
    "N = 1000\n",
    "xAx, points = randomWalk(V0,N ,t = 100, L = 50 ,h = 1, plot = False)\n",
    "#Find values to represent a normal curve that fits to the histogram. mu = expectation value, std = standard deviation.\n",
    "mu, std = norm.fit(points)\n",
    "plt.hist(points ,range = (-L,L),bins = 100)  \n",
    "#Make the normalized normal curve\n",
    "p = norm.pdf(xAx, mu, std)\n",
    "#Multiply the normalized normal curve with N to scale it with the histogram. This gives the distribution. Since the \n",
    "#particles jump an even number of times (t = 100), all particles must end up on an even x-value. Therefore, the density \n",
    "#of particles is one half of the amount of particles i the nearby point. Multiply by 2 to get a normal curve that \"fits\"\n",
    "#the histogram. \n",
    "plt.plot(xAx, 2 * N * p, linewidth=2, color = \"red\")\n",
    "plt.show()"
   ]
  },
  {
   "cell_type": "markdown",
   "metadata": {},
   "source": [
    "### Random walk in a potential"
   ]
  },
  {
   "cell_type": "markdown",
   "metadata": {},
   "source": [
    "**Exercise 5.1**\n"
   ]
  },
  {
   "cell_type": "code",
   "execution_count": 58,
   "metadata": {},
   "outputs": [
    {
     "name": "stdout",
     "output_type": "stream",
     "text": [
      "beta * K:  0.1\n"
     ]
    },
    {
     "data": {
      "image/png": "[encoded data removed]",
      "text/plain": [
       "<Figure size 432x288 with 1 Axes>"
      ]
     },
     "metadata": {
      "needs_background": "light"
     },
     "output_type": "display_data"
    },
    {
     "name": "stdout",
     "output_type": "stream",
     "text": [
      "beta * K:  2.575\n"
     ]
    },
    {
     "data": {
      "image/png": "[encoded data removed]",
      "text/plain": [
       "<Figure size 432x288 with 1 Axes>"
      ]
     },
     "metadata": {
      "needs_background": "light"
     },
     "output_type": "display_data"
    },
    {
     "name": "stdout",
     "output_type": "stream",
     "text": [
      "beta * K:  5.05\n"
     ]
    },
    {
     "data": {
      "image/png": "[encoded data removed]",
      "text/plain": [
       "<Figure size 432x288 with 1 Axes>"
      ]
     },
     "metadata": {
      "needs_background": "light"
     },
     "output_type": "display_data"
    },
    {
     "name": "stdout",
     "output_type": "stream",
     "text": [
      "beta * K:  7.525\n"
     ]
    },
    {
     "data": {
      "image/png": "[encoded data removed]",
      "text/plain": [
       "<Figure size 432x288 with 1 Axes>"
      ]
     },
     "metadata": {
      "needs_background": "light"
     },
     "output_type": "display_data"
    },
    {
     "name": "stdout",
     "output_type": "stream",
     "text": [
      "beta * K:  10.0\n"
     ]
    },
    {
     "data": {
      "image/png": "[encoded data removed]",
      "text/plain": [
       "<Figure size 432x288 with 1 Axes>"
      ]
     },
     "metadata": {
      "needs_background": "light"
     },
     "output_type": "display_data"
    }
   ],
   "source": [
    "#Plot for different potentials and different values of betaK (different temperatures). \n",
    "for betaK in np.linspace(0.1,10,5):\n",
    "    print(\"beta * K: \",betaK)\n",
    "    randomWalk(V1,99,100,150,1,betaK)\n",
    "    "
   ]
  },
  {
   "cell_type": "markdown",
   "metadata": {},
   "source": [
    "**Exercise 5.2**"
   ]
  },
  {
   "cell_type": "markdown",
   "metadata": {},
   "source": [
    "**Exercise 5.3**"
   ]
  },
  {
   "cell_type": "markdown",
   "metadata": {},
   "source": [
    "### Transporting ions through cell membranes"
   ]
  },
  {
   "cell_type": "code",
   "execution_count": null,
   "metadata": {},
   "outputs": [],
   "source": []
  },
  {
   "cell_type": "markdown",
   "metadata": {},
   "source": [
    "**Exercise 7.1**"
   ]
  },
  {
   "cell_type": "markdown",
   "metadata": {},
   "source": [
    "**Exercise 7.2**"
   ]
  },
  {
   "cell_type": "markdown",
   "metadata": {},
   "source": [
    "**Exercise 7.3**"
   ]
  },
  {
   "cell_type": "markdown",
   "metadata": {},
   "source": [
    "### Simulating the action potential"
   ]
  },
  {
   "cell_type": "markdown",
   "metadata": {},
   "source": [
    "**Exercise 8.1**"
   ]
  },
  {
   "cell_type": "markdown",
   "metadata": {},
   "source": [
    "**Exercise 8.1**"
   ]
  }
 ],
 "metadata": {
  "kernelspec": {
   "display_name": "Python 3",
   "language": "python",
   "name": "python3"
  },
  "language_info": {
   "codemirror_mode": {
    "name": "ipython",
    "version": 3
   },
   "file_extension": ".py",
   "mimetype": "text/x-python",
   "name": "python",
   "nbconvert_exporter": "python",
   "pygments_lexer": "ipython3",
   "version": "3.7.1"
  }
 },
 "nbformat": 4,
 "nbformat_minor": 2
}
