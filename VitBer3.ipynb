{
 "cells": [
  {
   "cell_type": "markdown",
   "metadata": {},
   "source": [
    "# VitBer Prosjekt 3\n",
    "\n",
    "####  Simulating the action potential with random walk of ions\n",
    "\n",
    "---\n",
    "\n",
    "Gruppe 49 - Martin Johnsrud, Hans Giil og Eirik Høydalsvik"
   ]
  },
  {
   "cell_type": "markdown",
   "metadata": {},
   "source": [
    "## Exercise 2\n",
    "#### 2.1\n",
    "\n",
    "\n",
    "\n",
    "Given the function\n",
    "\n",
    "$$\n",
    "    \\tilde \\phi(x, t) = \\frac{1}{\\sqrt{4 \\pi D t}} exp \\Big(-\\frac{(x - \\mu)^2}{4Dt} \\Big),\n",
    "$$\n",
    "\n",
    "its partial derivatives are\n",
    "\n",
    "$$\n",
    "    \\frac{\\partial \\tilde \\phi}{\\partial t} = -\\tilde \\phi \\Bigg( \\frac{1}{2 t} - \\frac{(x - \\mu)^2}{4 D t^2} \\Bigg),\\quad\n",
    "    \\frac{\\partial \\tilde \\phi}{\\partial x} = \\tilde \\phi \\frac{-(x - \\mu)}{2 D t},\\quad\n",
    "    \\frac{\\partial^2 \\tilde \\phi}{\\partial^2 x} = -\\tilde \\phi\\Bigg( \\frac{1}{2 D t} - \\frac{(x - \\mu)^2}{4D^2 t^2}\\Bigg) = \\frac{1}{D} \\frac{\\partial \\tilde \\phi}{\\partial t},\n",
    "$$\n",
    "\n",
    "and the function satisfies the diffusion equation\n",
    "\n",
    "$$\n",
    "    \\frac{\\partial \\tilde \\phi(x, t)}{\\partial t} = D \\frac{\\partial^2 \\tilde \\phi (x, t)}{\\partial x^2}\n",
    "$$"
   ]
  },
  {
   "cell_type": "markdown",
   "metadata": {},
   "source": [
    "#### 2.2.1\n",
    "\n",
    "Let\n",
    "\n",
    "$$\n",
    "    \\phi(x, 0) = \\delta(x - x_0) = \\frac{1}{2 \\pi} \\int^\\infty_{-\\infty} \\exp\\big(-i k(x - x_0)\\big) \\mathrm{d}k\n",
    "$$\n",
    "be a particle distribuition in 1D at time $t = 0$, and assume that it follows the diffusion equation. Differentiating this with respect to $x$ yields\n",
    "\n",
    "$$\n",
    "   \\frac{\\partial \\phi}{\\partial x} = \\frac{\\partial}{\\partial x} \\frac{1}{2 \\pi} \\int^\\infty_{-\\infty} \\exp\\big(-i k(x - x_0)\\big)\\mathrm{d}k \n",
    "   = \\frac{1}{2 \\pi} \\int^\\infty_{-\\infty} -i k \\exp\\big(-i k(x - x_0)\\big) \\mathrm{d}k, \\\\\n",
    "   \\frac{\\partial^2 \\phi}{\\partial x^2} = \\frac{1}{2 \\pi} \\int^\\infty_{-\\infty} -k^2 \\exp\\big(-i k(x - x_0)\\big) \\mathrm{d}k.\n",
    "$$\n",
    "\n",
    "The time derivative at time $t = 0$ is then given by\n",
    "\n",
    "$$\n",
    "    \\frac{\\partial \\phi}{\\partial t} \\Big\\rvert_{t = 0} = \\frac{1}{2 \\pi} \\int^\\infty_{-\\infty} -D k^2 \\exp\\big(-i k(x - x_0)\\big) \\mathrm{d}k \n",
    "$$\n",
    "\n",
    "---"
   ]
  },
  {
   "cell_type": "markdown",
   "metadata": {},
   "source": [
    "To find the $n$th time derivative, one can use the taylor expansion of $\\phi(x, t)$ at $t = 0$ given by\n",
    "\n",
    "$$\n",
    "    \\phi(x, t) = \\phi(x, 0) + \\sum^{\\infty}_{n = 1} \\frac{t^n}{n !} \\frac{\\partial^n \\phi (x, \\tau)}{\\partial \\tau^n}\\Bigg\\rvert_{\\tau = 0}.\n",
    "$$\n",
    "\n",
    "Substituting this into the diffusion equation yields\n",
    "\n",
    "$$\n",
    "    D \\frac{\\partial^2 \\phi}{\\partial x^2} = D \\sum^{\\infty}_{n = 0} \\frac{t^n}{n !} \\frac{\\partial^2}{\\partial x^2}\\Bigg( \\frac{\\partial^n \\phi (x, \\tau)}{\\partial \\tau^n} \\Bigg)\\Bigg\\rvert_{\\tau = 0} = \\\\\n",
    "    \\frac{\\partial \\phi}{\\partial t} =  \\sum^{\\infty}_{n = 1} \\frac{nt^{n - 1}}{n !} \\frac{\\partial^n}{\\partial \\tau^n}\\Big( \\phi (x, \\tau) \\Big)\\Bigg\\rvert_{\\tau = 0} =\n",
    "    \\sum^{\\infty}_{n = 0} \\frac{t^{n}}{n !} \\frac{\\partial^{n + 1}}{\\partial \\tau^{n + 1}}\\Big( \\phi (x, \\tau) \\Big)\\Bigg\\rvert_{\\tau = 0}\n",
    "$$\n",
    "\n",
    "The uniqueness of Taylor-sereis then gives that\n",
    "\n",
    "$$\n",
    "    D \\frac{\\partial^2}{\\partial x^2}\\Bigg( \\frac{\\partial^n \\phi (x, \\tau)}{\\partial \\tau^n } \\Bigg)\\Bigg\\rvert_{\\tau = 0} = \n",
    "    \\frac{\\partial^{n + 1}\\phi (x, \\tau)}{\\partial \\tau^{n + 1}}\\Bigg\\rvert_{\\tau = 0}, \\quad \\forall n \\in \\mathbb{N}.\n",
    "$$\n",
    "\n",
    "This gives a recursice formula for the derivative with respec to to $t$ at $t = 0$, and can be used to evaluate the $n$th derivatie, \n",
    "\n",
    "$$\n",
    "     \\frac{\\partial^{n}\\phi (x, \\tau)}{\\partial \\tau^{n}}\\Bigg\\rvert_{\\tau = 0} = \n",
    "    D\\frac{\\partial^2}{\\partial x^2} \\frac{\\partial^{n - 1} \\phi (x, \\tau) }{\\partial \\tau^{n - 1}}\\Bigg\\rvert_{\\tau = 0} =  \\ldots =\n",
    "   D^{n} \\frac{\\partial^{2n}\\phi (x, \\tau)}{\\partial x^{2n}} \\Bigg\\rvert_{\\tau = 0} = \\frac{1}{2 \\pi}\\int^\\infty_{-\\infty} (-D k^2)^n\\exp\\big(-ik(x - x_0)\\big)\\mathrm{d}k,\n",
    "$$\n",
    "\n",
    "which means the taylor expansion can be written\n",
    "$$\n",
    "    \\phi(x, t) = \\phi(x, 0) + \\sum^{\\infty}_{n = 1} \\frac{t^n}{n !} \\frac{1}{2 \\pi} \\int^\\infty_{-\\infty}(-k^2 D)^n \\exp\\big((x - x_0)\\big)\\mathrm{d}k = \n",
    "    \\frac{1}{2 \\pi} \\int^\\infty_{-\\infty} \\sum^{\\infty}_{n = 0} \\frac{(-k^2 D t)^n}{n !}\\exp\\big(-ik(x - x_0)\\big)\\mathrm{d}k = \\\\\n",
    "    \\frac{1}{2 \\pi} \\int^\\infty_{-\\infty} \\exp\\big(-k^2 D t\\big)\\exp\\big(-ik(x - x_0)\\big)\\mathrm{d}k.\n",
    "$$\n",
    "\n",
    "---"
   ]
  },
  {
   "cell_type": "markdown",
   "metadata": {},
   "source": [
    "The time evolution of the intitial condition is, down to a multiplicative constant, the fourier transform, $ \\hat f(x - x_0)$, of $ f(k) = \\exp \\big(-D t k^2 \\big)$. By noticing that $f'(k) = - 2 D t k f(k)$, and taking the fourier transform of both sides,\n",
    "\n",
    "$$\n",
    "    \\mathscr{F}[f'(k)](x - x_0) = \\int_{-\\infty}^{\\infty} f'(k)e^{-ik (x - x_0)} \\mathrm{d}k = \n",
    "    \\Bigg[ f(k) exp(-ik(x - x_0))  +\n",
    "    i (x - x_0) \\int f(k)e^{-i k (x - x_0)} \\mathrm{d} k \\Bigg]_{k = -\\infty}^{k = \\infty} = i (x - x_0) \\hat f(x - x_0)\n",
    "$$\n",
    "  \n",
    "<br>\n",
    "<br>\n",
    "  \n",
    "$$\n",
    "    \\mathscr{F}[-2Dt k f(k)] = -2Dt \\int_{-\\infty}^{\\infty} k f(k)e^{-ik(x - x_0)} \\mathrm{d}k =\n",
    "    -i2Dt\\frac{\\partial}{\\partial x} \\int_{-\\infty}^{\\infty} f(k)e^{-ik(x - x_0)} \\mathrm{d}k = -i2Dt \\hat f'(x - x_0),\n",
    "$$\n",
    "\n",
    "one sees that the equation for $f(x - x_0)$, and by extention $\\phi(x, t)$, is given by\n",
    "\n",
    "$$\n",
    "    (x - x_0) \\hat f(x - x_0) + 2 D t \\hat f'(x - x_0) = 0,\n",
    "$$\n",
    "\n",
    "The genereal solution is\n",
    "\n",
    "$$\n",
    "    xy = C_1 \\frac{\\mathrm{d}y}{\\mathrm{d}x} \\\\\n",
    "    \\int \\frac{x}{C_1} \\mathrm{d} x = \\int \\frac{1}{y} \\mathrm{d} y \\\\\n",
    "    y(x) = C_2 \\exp \\big(\\frac{x^2}{2C_1}\\big),\n",
    "$$\n",
    "\n",
    "which in this case gives\n",
    "\n",
    "$$\n",
    "    \\phi(x, t) = \\frac{1}{2 \\pi} \\int^\\infty_{-\\infty} \\exp\\big(-k^2 D t\\big)\\exp\\big(-ik(x - x_0)\\big)\\mathrm{d}k = C_1(t) \\exp\\big(-\\frac{(x - x_0)^2}{4Dt}\\big)\n",
    "$$\n",
    "\n",
    "$C_1$ is found by normalizing, as\n",
    "\n",
    "$$\n",
    "    \\int_{\\mathbb{R}} \\phi(x, 0) \\mathrm{d}x= \\int_{\\mathbb{R}} \\delta(x - x_0) \\mathrm{d}x = 1 = \\int_{\\mathbb{R}} C_1(t) \\exp\\big(-\\frac{(x - x_0)^2}{4Dt}\\big) \\mathrm{d} x = \\frac{C_1(t)}{\\sqrt{4\\pi Dt}},\n",
    "$$\n",
    "\n",
    "the time dependent distribution becomes\n",
    "\n",
    "$$\n",
    "    \\phi(x, t) = \\frac{1}{\\sqrt{4Dt}}\\exp\\Big(-\\frac{(x - x_0)^2}{4Dt}\\Big)\n",
    "$$"
   ]
  },
  {
   "cell_type": "markdown",
   "metadata": {},
   "source": [
    "#### 2.2.2\n",
    "\n",
    "The diffusion constant $D$ gives the relationship between the curvature and the time-derivative. That is, the larger the value of $D$, the faster a peak or valley in the distribution flattens, as those are the places where $\\phi''(x)$ has its maximum absolute values. The flattening of a peak in the diffusion equation corresponds to how fast particles spread out from a starting distribution. "
   ]
  },
  {
   "cell_type": "markdown",
   "metadata": {},
   "source": [
    "#### 2.2.3\n",
    "\n",
    "Assuming an arbitrary, normalized and square integrable starting distribution\n",
    "\n",
    "$$\n",
    "    \\phi(x, 0) = g(x),\n",
    "$$\n",
    "\n",
    "the time evolution can be found by taking the fourier transform of the diffusion equation,\n",
    "\n",
    "$$\n",
    "    \\frac{\\partial}{\\partial t} \\hat \\phi(\\omega, t) = -\\omega^2 D \\hat \\phi(\\omega, t) \\implies \\hat \\phi = C(\\omega) \\exp\\big(-\\omega^2 D t\\big)\n",
    "$$\n",
    "\n",
    "seeing that\n",
    "\n",
    "$$\n",
    "    g(x) = \\mathscr{F}^{-1}[\\hat \\phi(\\omega, 0)] = \\mathscr{F}^{-1}[C(\\omega)] \\implies C(\\omega) = \\hat g(\\omega),\n",
    "$$\n",
    "\n",
    "the time dependent solution is given by\n",
    "\n",
    "$$\n",
    "\\phi(x, t) = \\int_\\mathbb{R} \\hat g(\\omega) \\exp \\big(- \\omega^2 D t \\big)e^{i\\omega x} \\mathrm{d} \\omega = \\int_\\mathbb{R} \\int_\\mathbb{R} g(k) e^{ik\\omega} \\mathrm{d}k \\exp \\big(- \\omega^2 D t \\big)e^{-i\\omega x} \\mathrm{d}\\omega = \\\\\n",
    "\\int_\\mathbb{R}  g(k) \\int_\\mathbb{R}  \\exp \\big(- \\omega^2 D t \\big) e^{-i\\omega (x - k)} \\mathrm{d}\\omega \\mathrm{d}k = \\\\\n",
    "\\frac{1}{\\sqrt{4\\pi D t}} \\int_\\mathbb{R} g(k) \\exp \\Big(-\\frac{(x - k)^2}{4 Dt} \\Big) \\mathrm{d}k \n",
    "$$\n",
    "\n",
    "This agrees with the results from befroe, seeing as substituting $g(x) = \\delta(x - x_0)$ yields\n",
    "\n",
    "$$\n",
    "\\frac{1}{\\sqrt{4\\pi D t}} \\int_\\mathbb{R} \\delta(k - x_0) \\exp \\Big(-\\frac{(x - k)^2}{4 Dt} \\Big) \\mathrm{d}k = \n",
    "\\frac{1}{\\sqrt{4\\pi D t}}\\exp \\Big(-\\frac{(x - x_0)^2}{4 Dt} \\Big) \n",
    "$$"
   ]
  },
  {
   "cell_type": "markdown",
   "metadata": {},
   "source": [
    "## Exercise 3 - Random walk in 1D"
   ]
  },
  {
   "cell_type": "code",
   "execution_count": null,
   "metadata": {},
   "outputs": [],
   "source": [
    "import random\n",
    "import numpy as np\n",
    "from numpy import sqrt, pi\n",
    "from matplotlib import pyplot as plt\n",
    "from matplotlib import rc\n",
    "from scipy.stats import norm"
   ]
  },
  {
   "cell_type": "code",
   "execution_count": null,
   "metadata": {},
   "outputs": [],
   "source": [
    "# Different potentials. Takes a x-value and the step length as arguments, \n",
    "# and returns the potential in this point. \n",
    "\n",
    "def V0(x, h):\n",
    "    return 0\n",
    "\n",
    "def V1(x, h):\n",
    "    return x\n",
    "\n",
    "def V2(x, h):\n",
    "    if x < 3 * h and x > -3*h:\n",
    "        return 1;\n",
    "    else:\n",
    "        return 0;\n",
    "    \n",
    "def V3(x, h):\n",
    "    if x < -3 * h:\n",
    "        return -1\n",
    "    elif x > 3 * h:\n",
    "        return 1\n",
    "    \n",
    "    return -1 + 2 * (x + 3 * h) / (6 * h)"
   ]
  },
  {
   "cell_type": "code",
   "execution_count": null,
   "metadata": {},
   "outputs": [],
   "source": [
    "# This function simulates random walk in 1D, with an arbitary potential V as input parameter. \n",
    "# Other parameters:\n",
    "# N: number of particle, t: number of time steps, L: length of x - axis in the plot  \n",
    "# h: step length, betaK: the constant beta * k (ratio between potential and thermal energy)  \n",
    "\n",
    "def randomWalk(V, N, t, h, betaK = 1):\n",
    "        points = np.zeros(N)\n",
    "        \n",
    "        for i in range(N):\n",
    "            pos = 0\n",
    "            for j in range(t):\n",
    "                randNum = random.random()\n",
    "                P_pluss = 1/(1 + np.exp(-betaK * (V(pos - h, h) - V(pos + h, h))))\n",
    "                if randNum < P_pluss:\n",
    "                    pos += 1\n",
    "                else:\n",
    "                    pos -= 1            \n",
    "            points[i] += pos\n",
    "        \n",
    "        return points"
   ]
  },
  {
   "cell_type": "code",
   "execution_count": null,
   "metadata": {},
   "outputs": [],
   "source": [
    "plt.style.use('seaborn-deep')\n",
    "font = {'size' : \"18\"}\n",
    "rc(\"font\", **font)\n",
    "\n",
    "# Find values to represent a normal curve that fits to the histogram.\n",
    "def normalCurveFit(ax, xAx, points, N):\n",
    "   \n",
    "    # mu: expectation value, std: standard deviation\n",
    "    mu, std = norm.fit(points)\n",
    "    # Make the normalized normal curve\n",
    "    p = norm.pdf(xAx, mu, std)\n",
    "    ax2 = ax.twinx()\n",
    "    ax.set_ylim(0, 2 * N / (sqrt(2 * pi) * std) * 1.2)\n",
    "    ax2.set_ylim(0, 1 / (sqrt(2 * pi) * std) * 1.2)\n",
    "    ax2.set_ylabel(\"Probability density\")\n",
    "    ax2.plot(xAx, p, linewidth=2, color = \"red\")\n",
    "    return ax2, xAx\n",
    "\n",
    "# Plots the potential\n",
    "def plotPotential(ax, xAx, V, h):\n",
    "    vList = np.array([V(x, h) for x in xAx])\n",
    "    ax2 = ax.twinx()\n",
    "    ax2.plot(xAx, vList, \"--k\")\n",
    "    ax2.set_ylabel(\"Potential\")\n",
    "    return ax2, xAx\n",
    "\n",
    "# Plots the distibution of particles\n",
    "def plotDist(ax, points, betaK, N, V, h, title = \"\"):\n",
    "    xMax = np.max(np.abs([np.min(points), np.max(points)]))\n",
    "    xRange = (-xMax * 1.1, xMax * 1.1)\n",
    "    xAx = np.linspace(*xRange, 100)\n",
    "\n",
    "    ax.hist(points, range = xRange, bins = 100)\n",
    "    ax.set_xlim(*xRange)\n",
    "    ax.set_xlabel(\"Number of steps\")\n",
    "    ax.set_ylabel(\"$N$, number of paricles\")\n",
    "\n",
    "    return ax, xAx"
   ]
  },
  {
   "cell_type": "code",
   "execution_count": null,
   "metadata": {},
   "outputs": [],
   "source": [
    "# Plot for exercice 3 and 5\n",
    "def plotRandomWalk(numPlots, V, nCols = 2, curveFit = False, N = 1000, figNo = 0):\n",
    "    \n",
    "    betaKValues = np.linspace(0.1, 10, numPlots)\n",
    "    nRows = numPlots // nCols + numPlots % nCols\n",
    "\n",
    "    fig, axs = plt.subplots(nRows, nCols, figsize = (18, 6 * nRows))\n",
    "    if (figNo):\n",
    "        fig.suptitle(\"fig. \" + str(figNo))\n",
    "    if nCols == 1:\n",
    "        axs = np.array([axs,])\n",
    "    if nRows == 1:\n",
    "        axs = np.array([axs,])\n",
    "    t, h = 100, 1\n",
    "    \n",
    "    for i in range(nRows):\n",
    "        for j in range(nCols):\n",
    "            if numPlots % nCols and j >= numPlots % nCols and i == nRows - 1:\n",
    "                ax[i, j].axis(\"off\")\n",
    "                continue\n",
    "                \n",
    "            k = j + nCols * i\n",
    "            betaK = betaKValues[k]\n",
    "            points = randomWalk(V, N, t, h, betaK)\n",
    "            ax, xAx = plotDist(axs[i, j], points, betaK, N, V, h)\n",
    "            ax.set_title(\"$\\\\beta K$ =  \" + \"{:.2f}\".format(betaK))\n",
    "            \n",
    "            if curveFit:\n",
    "                normalCurveFit(ax, xAx, points, N)\n",
    "            else: \n",
    "                plotPotential(ax, xAx, V, h)\n",
    "        \n",
    "    plt.subplots_adjust(hspace = 0.3, wspace = 0.45)\n",
    "    plt.show()\n",
    "    "
   ]
  },
  {
   "cell_type": "code",
   "execution_count": null,
   "metadata": {},
   "outputs": [],
   "source": [
    "plotRandomWalk(1, V0, nCols = 1, curveFit = True, figNo=1)"
   ]
  },
  {
   "cell_type": "markdown",
   "metadata": {},
   "source": [
    "#### Explanation of exercise 3\n",
    "\n",
    "There is a binary choice between going to the right or to the left every iteration in the function `randomWak()`, with probability $P^+$ and $P^-$, respectivley. Where the potential(meaning the potential energy) is constant, these probabilities remain constant, making every iteration a bernoulli process. This means the probaility density of the distribution with constant potetial is a binomial distribution $b(x; n, P^+) = \\binom{n}{x}(P^+)^x(1 - P^+)^{n - x}$. The normal distribution is the limit of the binomial distribution as $n$ goes to infinity, explaining why the data fits the normal curve, as shown in figure 1.\n",
    "\n",
    "\n",
    "**Axis scaling**\n",
    "\n",
    "In the figure above, the $y$ limit on the normal curve is set to $1 / \\sqrt{\\pi 2} \\sigma \\cdot 1.2$, the maximum value of a normalized normal distribution with standard deviation $\\sigma$ multiplied with a factor of $1.2$ to make headspace for the graph. The $y$ limit on the histogram is set to $2 N / \\sqrt{\\pi 2} \\sigma \\cdot 1.2$, as there are $N$ particles, but since the particles jump an even number of times $(t = 100)$, all particles end up on even x-values. \n",
    "Therefore, the density of particles is one half of the amount of particles in the nearby point. Multiply by $2$ to get a normal curve that \"fits\" the histogram.  \n",
    "\n",
    "FJERNE HELE AXIS SCALING? MÅ FÅ MED AT HIST HØRER TIL VENSTRE; NORMALKURVE TIL HØYRE. BRUKE LEGEND TIL DETTE?"
   ]
  },
  {
   "cell_type": "markdown",
   "metadata": {},
   "source": [
    "## Exercise 5 - Programming"
   ]
  },
  {
   "cell_type": "code",
   "execution_count": null,
   "metadata": {},
   "outputs": [],
   "source": [
    "plotRandomWalk(4, V1, figNo = 2)"
   ]
  },
  {
   "cell_type": "markdown",
   "metadata": {},
   "source": [
    "#### Exercise 5.1\n",
    "Figure 2 shows the distribution of $1000$ particles after 100 time steps in the potential $V =  kx$, which is shown with a dashed line. This is done for four different values of the factor $\\beta k$, indicated in the figure.\n"
   ]
  },
  {
   "cell_type": "code",
   "execution_count": null,
   "metadata": {},
   "outputs": [],
   "source": [
    "plotRandomWalk(4, V2, figNo = 3)"
   ]
  },
  {
   "cell_type": "markdown",
   "metadata": {},
   "source": [
    "#### Exercise 5.2\n",
    "Figure 3 shows the distribution of $1000$ particles after 100 time steps in the potential \n",
    "$V =  \\begin{cases} \n",
    "      k & -3 \\mathrm{h} \\leq  x \\leq 3\\mathrm{h} \\\\\n",
    "      0 & \\text{else} \n",
    "   \\end{cases}\n",
    " $, which is shown with a dashed line. This is done for four different values of the factor $\\beta k$, indicated in the figure.\n",
    " "
   ]
  },
  {
   "cell_type": "code",
   "execution_count": null,
   "metadata": {},
   "outputs": [],
   "source": [
    "plotRandomWalk(4, V3, figNo = 4)"
   ]
  },
  {
   "cell_type": "markdown",
   "metadata": {},
   "source": [
    "#### Exercise 5.3\n",
    "\n",
    "Figure 4 shows the distribution of $1000$ particles after 100 time steps in the potential  $$ V = \n",
    " \\begin{cases} \n",
    "      - k & x < -3 h \\\\\n",
    "      \\,\\,\\,k \\big( -1 + 2 \\frac{x + 3h}{6h} \\big) & x \\in [-3h, 3h]\\\\\n",
    "      \\,\\,\\,k &  x > 3 h\n",
    "   \\end{cases}\n",
    "$$ which is shown with a dashed line. This is done for four different values of the factor $\\beta k$, indicated in the figure.\n"
   ]
  },
  {
   "cell_type": "markdown",
   "metadata": {},
   "source": [
    "#### Discussion of results from Exercise 5.\n",
    "The ratio $ \\beta k  = \\frac{k}{T k_B}$, where $T$ is the temperature of the system, $k_B$ is the Boltzmann constant, and $k$ is a constant characterizing the strength of the potenial, is a measure of the ratio between the thermal energy of the system and the potential the particles move in. Since random movement and consequently diffusion is driven by thermal energy, the impact of the potential becomes more and more apparent with increasing values of $ \\beta k$. For the lower values of $ \\beta k$ the distribution of particles is close to a normal distribution centered in the origin, similar to the case with a constant potential. For higher values of $\\beta k $ the distribution of particles is skewed towards the areas with lower potential. "
   ]
  },
  {
   "cell_type": "markdown",
   "metadata": {},
   "source": [
    "##  Exercise 7 - Transporting ions through cell membranes"
   ]
  },
  {
   "cell_type": "code",
   "execution_count": null,
   "metadata": {},
   "outputs": [],
   "source": [
    "# Physical constants used in the computaion. \n",
    "\n",
    "k_B = 1.38e-23\n",
    "e = 1.60e-19\n",
    "L = 50\n",
    "\n",
    "#Conversion factor to go from energy to the dimentionless \"energy\" used with T = 310 K. \n",
    "ebeta = e / (k_B * 310)\n",
    "\n",
    "# Constants given in the exercises.\n",
    "treshLow = -70e-3 * ebeta\n",
    "treshHigh = 30e-3 * ebeta\n",
    "betaVOpen = 1\n",
    "betaVClosed = 50\n",
    "L = 50\n",
    "h = 1\n",
    "Cc = 0.07\n",
    "\n",
    "# Starting particle concentrations\n",
    "NKEnv = 50\n",
    "NNaEnv = 1450\n",
    "NKCell = 1400\n",
    "NNaCell = 50"
   ]
  },
  {
   "cell_type": "code",
   "execution_count": null,
   "metadata": {},
   "outputs": [],
   "source": [
    "# Functions used in randomWalkCell\n",
    "\n",
    "# Function that returns the potential, given an x value, the width of the membrane (2h), \n",
    "# the time-dependent potential Vt and the constant potential corresponing to the specific ion in\n",
    "def VTot(x, h, Vt, VCons, L):\n",
    "    func = np.array([np.inf, Vt, lambda x: -Vt *(x-h) / (2*h) + VCons, 0])\n",
    "    conditions = np.array([np.logical_or((x < -L / 2), (x > L / 2)), \n",
    "                           np.logical_and((x > -L / 2), (x < -h)),\n",
    "                           np.logical_and((x > -h), (x < h)), \n",
    "                           np.logical_and((x > h), (x < L / 2))])\n",
    "    return np.piecewise(x, conditions, func)\n",
    "\n",
    "# Executes one time step of the random walk\n",
    "def Step(pos, h, Vt, betaVC, L):\n",
    "    randArr = np.random.rand(pos.size)\n",
    "    arg = - (VTot(pos - h, h, Vt, betaVC, L) - VTot(pos + h, h, Vt, betaVC, L))\n",
    "    P_plussArr = 1/(1 + np.exp(arg))\n",
    "    stepArr = ((P_plussArr - randArr) > 0)\n",
    "    return pos + stepArr * h + (stepArr - np.ones(stepArr.size)) * h\n",
    "\n",
    "# Function that handles the action potential. Swiches the potentials of sodium and potassium when the voltage V(t) reaches treshold values.\n",
    "def gateSwitch(betaVt, treshLow, treshHigh, betaVCK, betaVCNa, betaVOpen, betaVClosed):\n",
    "    if betaVt <= treshLow :\n",
    "        betaVCK = betaVClosed\n",
    "        betaVCNa = betaVOpen\n",
    "    if betaVt >= treshHigh:\n",
    "        betaVCK = betaVOpen\n",
    "        betaVCNa = betaVClosed\n",
    "    return betaVCK, betaVCNa\n",
    "\n",
    "#Function that executes the particle transportation from the SSP. \n",
    "def SSP(posK, posNa, h):\n",
    "    N_K = np.count_nonzero(posK > h)\n",
    "    N_Na = np.count_nonzero(posNa < -h)\n",
    "    if N_K >= 2 and N_Na >= 3:\n",
    "        posK.sort()\n",
    "        posNa.sort()\n",
    "        \n",
    "        i_K = np.argmax(posK > h)\n",
    "        for n in range(2):\n",
    "            posK[i_K + n] = -2.5*h\n",
    "            \n",
    "        i_Na = np.argmax(posNa > -2*h) - 1\n",
    "        for n in range(3):\n",
    "            posNa[i_Na - n] = 2.5*h"
   ]
  },
  {
   "cell_type": "code",
   "execution_count": null,
   "metadata": {},
   "outputs": [],
   "source": [
    "# Runs the random walk, with or without a SSP and action potential\n",
    "def randomWalkCell(startPos, NKEnv, NNaEnv,NKCell, NNaCell, betaVK, betaVNa,t, pump = True, action = True):\n",
    "    posK = np.concatenate((np.ones(NKEnv) * startPos, np.ones(NKCell) * (-startPos)), axis = 0)\n",
    "    posNa = np.concatenate((np.ones(NNaEnv) * startPos, np.ones(NNaCell) * (-startPos)), axis = 0)\n",
    "    \n",
    "    VtArr = np.zeros(t)\n",
    "    tArr = np.arange(t)\n",
    "    \n",
    "    for i in range(t):\n",
    "        if pump and i % 10 == 0:\n",
    "            SSP(posK, posNa, h)\n",
    "        \n",
    "        consK = np.count_nonzero(posK < -h) * 1e-4\n",
    "        consNa = np.count_nonzero(posNa < -h) * 1e-4\n",
    "        betaVt = -(150e-3 - (consK + consNa)) * e / (k_B * 310) / Cc  \n",
    "        VtArr[i] = betaVt\n",
    "        \n",
    "        sumPot += betaVt / ebeta\n",
    "        \n",
    "        if action:\n",
    "            betaVK, betaVNa = gateSwitch(betaVt, treshLow, treshHigh, betaVK, betaVNa, betaVOpen, betaVClosed)\n",
    "        posK = Step(posK, h, betaVt, betaVK, L)\n",
    "        posNa = Step(posNa, h, betaVt, betaVNa, L)\n",
    "        \n",
    "    return posK, posNa, tArr, VtArr"
   ]
  },
  {
   "cell_type": "code",
   "execution_count": null,
   "metadata": {},
   "outputs": [],
   "source": [
    "# Plots the particle distribution\n",
    "def plotPos(ax, pos, legend):\n",
    "    xMax = np.max(np.abs([np.min(pos), np.max(pos)]))\n",
    "    xRange = (-xMax * 1, xMax * 1)\n",
    "    ax.hist(pos, range = xRange, bins = 100, alpha = 0.7, label = legend)\n",
    "    ax.set_xlim(*xRange)\n",
    "    ax.set_xlabel(\"Number of steps\")\n",
    "    ax.set_ylabel(\"$N$, number of paricles\")\n",
    "    ax.legend()\n",
    "    return ax\n",
    "\n",
    "# Plots the voltage\n",
    "def plotVoltage(ax, V, t):\n",
    "    ax.plot(V, t, \".\", label = \"$V(t)\")\n",
    "    ax.set_xlabel(\"t\")\n",
    "    ax.set_ylabel(\"$\\\\beta e \\\\mathrm{V}$\")\n",
    "    ax.set_ylim((-3.5, 2))\n",
    "    ax2 = ax.twinx()\n",
    "    ax2.set_ylim(np.array(ax.get_ylim()) / ebeta)\n",
    "    ax2.set_ylabel(\"$\\\\mathrm{V}$\")\n",
    "    return ax, ax2\n",
    "\n",
    "# Smooths the function to show trends, by taking average values. Plots this curve. \n",
    "def plotVSmooth(ax, t, V, n):\n",
    "    Vs = np.zeros_like(V)\n",
    "    Vs[0] += V[0]\n",
    "    Vs[-1] += V[-1]\n",
    "    for i in range(1, len(V) - 1):\n",
    "        if i < n:\n",
    "            Vs[i] = np.sum(V[:2 * i]) / (2 * i)\n",
    "        elif i > len(V) - n:\n",
    "            Vs[i] = np.sum(V[-2 * (len(V) - i): -1]) / (2 * (len(V) - i) - 1)\n",
    "        else: \n",
    "            Vs[i] = np.sum(V[i - n: i + n]) / (2 * n)\n",
    "\n",
    "    ax.plot(t, Vs, \"--r\", linewidth = 3)\n",
    "    return ax\n",
    "\n",
    "# Total plot function\n",
    "def plotRWCell(posK, posNa, tArr, VtArr, betaV0K, betaV0Na, figNo = 0, smooth = True):\n",
    "    fig, ax = plt.subplots(1, 2, figsize = (18, 6))\n",
    "    ax[0] = plotPos(ax[0], posK, \"$K$\")\n",
    "    ax[0] = plotPos(ax[0], posNa, \"$Na$\")\n",
    "    ax[1],_ = plotVoltage(ax[1], tArr, VtArr)\n",
    "    if smooth:\n",
    "        ax[1] = plotVSmooth(ax[1], tArr, VtArr, t // 10)\n",
    "    title = \"\"\n",
    "    \n",
    "    if figNo:\n",
    "        title += \"fig. \" + str(figNo) + \"\\n\"\n",
    "    \n",
    "    title += \"$\\\\beta V^0_{K} = \" + str(betaV0K) + \"\\quad\"\\\n",
    "        + \"\\\\beta V^0_{Na}=\" + str(betaV0Na) + \"$\\n\" \n",
    "    \n",
    "    fig.suptitle(title, y = 1.02)\n",
    "    plt.show()"
   ]
  },
  {
   "cell_type": "markdown",
   "metadata": {},
   "source": [
    "#### Exercise 7.1"
   ]
  },
  {
   "cell_type": "code",
   "execution_count": null,
   "metadata": {},
   "outputs": [],
   "source": [
    "# betaVCK = betaVCNa = betaV0, and do the calculation for betaV0 = {0, 1, 3}\n",
    "for betaV0 in (0, 1, 3):\n",
    "    args = randomWalkCell(L / 4, NKEnv, NNaEnv, NKCell, NNaCell, betaV0, betaV0, t, pump = False, action = False)\n",
    "    plotRWCell(*args, betaV0, betaV0, figNo = 5 + betaV0)"
   ]
  },
  {
   "cell_type": "markdown",
   "metadata": {},
   "source": [
    "#### Discussion of results from 7.1\n",
    "Figures 6, 7 and 8 show the distribution of the sodium and potassium ions after a random walk of $500$ time steps in a potential, as well as the voltage $V(t)$ over the membrane plotted against the time steps. This is done for $ \\beta k \\in    \\{1,2,3 \\}$. The simiulation starts with 50 sodium ions and 1400 potassium ions inside the cell, and 50 potassium ions and 1450 sodium ions in the enviroment. This starting concentration is used in the rest of the exercises. \n",
    "A potential difference $V(t) \\neq 0$  results in a net electric force and therefore a net charge flow. \n",
    "Since the membrane potential is not too high for both sodium and potassium, the ions can travel across the barrier with a non- negligible probability,  and make the voltage settle around zero when equilibrium is reached.\n",
    "As expected, the voltage settles quicker for higher values of $ \\beta k$, since the diffusion is less apparent when the potential is high compared with the thermal energy, as discussed in the discussion of Exercise 5. "
   ]
  },
  {
   "cell_type": "markdown",
   "metadata": {},
   "source": [
    "#### Exercise 7.2"
   ]
  },
  {
   "cell_type": "code",
   "execution_count": null,
   "metadata": {},
   "outputs": [],
   "source": [
    "# Same as 7.1, but with betaVK = 1 and betaNa = 10\n",
    "betaV0K = 1\n",
    "betaV0Na = 10\n",
    "t = 500\n",
    "args = randomWalkCell(L / 4, NKEnv, NNaEnv, NKCell, NNaCell, betaV0K, betaV0Na, t, pump = False, action = False)\n",
    "plotRWCell(*args, betaV0K, betaV0Na, figNo = 8)"
   ]
  },
  {
   "cell_type": "code",
   "execution_count": null,
   "metadata": {},
   "outputs": [],
   "source": [
    "# betaVK = 10 and betaNa = 1\n",
    "betaV0K = 10\n",
    "betaV0Na = 1\n",
    "t = 500\n",
    "args = randomWalkCell(L / 4, NKEnv, NNaEnv, NKCell, NNaCell, betaV0K, betaV0Na, t, pump = False, action = False)\n",
    "plotRWCell(*args, betaV0K, betaV0Na, figNo = 9)"
   ]
  },
  {
   "cell_type": "markdown",
   "metadata": {},
   "source": [
    "#### Discussion of results from 7.2\n",
    "The plots on the left of figure 8 and 9  show the distribution of the sodium and potassium ions afer a random walk with $1000$ time steps with different cell potensials for sodium and potassium. With the dimentionless potential of $\\beta V = 10$, the probability of an ion travelling across the membrane is negligibly small. In the case where $\\beta V_{Na} = 10$ and $\\beta V_{K} = 1$, as shown in figure 8, the sodium ions will be trapped on the outside of the cell, while a few of the potassium ions on the outside will be pulled into cell. Equilibrium is reached between the diffusion of potassium out of the cell and potassium transport into the cell caused by the voltage $V(t)$, and this results in a negative voltage over the cell membrane, as shown in the plot on the right side of figure 8. \n",
    "\n",
    "The oposite effect can be observed when $\\beta V_K k = 10$, and $\\beta V_{Na} k = 1$, as shown in figure 9. Many sodium ions will quickly move into the cell because of both the electric voltage and the concentration gradient, while the potassium on the inside of the cell is trapped by voltage barrier. After some time, when zero potensial difference between the cell and the enviroment is reached, there is still a concentration gradient of sodium into the cell. The concentration gradient causes the sodium to continue to diffuse into the cell until an equilibrium is reached with the sodium transportation caused by the voltage. Therefore, the voltage settles at a positive value, as shown in the plot on the right side of figure 9. "
   ]
  },
  {
   "cell_type": "markdown",
   "metadata": {},
   "source": [
    "## Exercise  8 - Simulating the action potential"
   ]
  },
  {
   "cell_type": "markdown",
   "metadata": {},
   "source": [
    "##### Exercise 8.1"
   ]
  },
  {
   "cell_type": "code",
   "execution_count": null,
   "metadata": {
    "scrolled": true
   },
   "outputs": [],
   "source": [
    "betaV0K = 50\n",
    "betaV0Na = 50\n",
    "t = 1000\n",
    "args = randomWalkCell(L / 4, NKEnv, NNaEnv, NKCell, NNaCell, betaV0K, betaV0Na, t, pump = False, action = True)\n",
    "plotRWCell(*args, betaV0K, betaV0Na, figNo = 10, smooth = True)"
   ]
  },
  {
   "cell_type": "markdown",
   "metadata": {},
   "source": [
    "#### Discussion of results from 8.1\n",
    "The plot on the left in figure 10 shows the particle distribution after a random walk of $1000$ time steps with an action potential. The action potenial alternates the values of the gate potentials for sodium and potasium between $\\beta V = 1$ and $\\beta V = 50$. When the voltage goes below a value of $-70 \\mathrm{mV}$ the sodium gate potential is set to $\\beta V_{Na} = 1$ and the potasium gate potential is set to $\\beta V_K = 50$. When the voltage goes over a value of $30\\mathrm{mV}$ the gate potenials switch to $\\beta V_{Na} = 50$ and $\\beta V_K = 1$.\n",
    "\n",
    "The initial concentrations of $Na$ and $K$ result in the Na-gate beeing opened immediately and spiking the voltage, as can be observed in the plot on the right in figure 10, which shows the total voltge over time. After the initial spike, the voltage stabilizes at aproximately $-35mv$. Because of the random movement of potasium, the voltage can drop below $-70\\mathrm{mV}$ and open the sodium gate causing a voltage spike. For each spike the sodium consentration inside the cell increases, resulting in a increased voltage. THe increase is calculated bu unning the program with $20000$ time steps and averaging the voltage over 1000 time steps before and after the spike. The average of five such differences is calculated to be XXX SETT INN EIRIK aproximately $4 \\mathrm{mV}$ for the second spike. This decreases the probability of the voltage dropping below $-70\\mathrm{mV}$. With $t = 1000$ time steps the voltage spikes one or two times, before stopping. "
   ]
  },
  {
   "cell_type": "markdown",
   "metadata": {},
   "source": [
    "#### Exercise 8.2"
   ]
  },
  {
   "cell_type": "code",
   "execution_count": null,
   "metadata": {},
   "outputs": [],
   "source": [
    "betaV0K = 50\n",
    "betaV0Na = 50\n",
    "t = 5000\n",
    "\n",
    "args = randomWalkCell(L / 4, NKEnv, NNaEnv, NKCell, NNaCell, betaV0K, betaV0Na, t, pump = True, action = True)\n",
    "plotRWCell(*args, betaV0K, betaV0Na, figNo = 11, smooth = True)"
   ]
  },
  {
   "cell_type": "markdown",
   "metadata": {},
   "source": [
    "#### Discussion of results from exercise 8.2\n",
    "The plot to the left in figure 11 shows the particle distribution after a random walk of $5000$ time steps with an action potential and with a sodium potasium pump. The action potential is the same as in Exercise 8.1. The sodium potasium pump transports two potasium ions from the enviroment into the cell and three sodium ions from the cell to the enviroment every 10th time step. The pump transports the closest ions across the membrane, and only transports ions if there are both potassium ions and sodium ions avalilable. This ion transport results in a net charge flow to the enviroment, lowering the voltage over the membrane. This causes the voltage to drop below the action threshold of $-70 \\mathrm{mV}$, causing action potential to spike. This results in a cyclus that will continue to run for as long as the pump runs. This possible because the pump works against the concentration gradient and the voltage difference. It does therefore require a supply of energy to run, which is transported by the ATP-molecule in real cells."
   ]
  }
 ],
 "metadata": {
  "kernelspec": {
   "display_name": "Python 3",
   "language": "python",
   "name": "python3"
  },
  "language_info": {
   "codemirror_mode": {
    "name": "ipython",
    "version": 3
   },
   "file_extension": ".py",
   "mimetype": "text/x-python",
   "name": "python",
   "nbconvert_exporter": "python",
   "pygments_lexer": "ipython3",
   "version": "3.7.1"
  }
 },
 "nbformat": 4,
 "nbformat_minor": 2
}
